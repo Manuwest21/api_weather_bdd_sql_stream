{
 "cells": [
  {
   "cell_type": "code",
   "execution_count": 5,
   "metadata": {},
   "outputs": [
    {
     "name": "stdout",
     "output_type": "stream",
     "text": [
      "         ville  temp_actuelle  temp_ressentie  temp_min  temp_max  \\\n",
      "0     Gueugnon           7.97            5.49      7.97      8.88   \n",
      "1        Paris          12.00           10.56     11.17     12.92   \n",
      "2          Gap           2.04           -1.84      2.04      2.04   \n",
      "3         Albi          14.14           13.36     13.28     14.14   \n",
      "4      Ajaccio          15.99           14.74     15.03     15.99   \n",
      "5         Lyon           8.01            7.57      7.03      8.17   \n",
      "6     Toulouse          13.01           11.99     12.99     14.31   \n",
      "7     Poitiers           8.23            5.32      8.23      9.58   \n",
      "8       Troyes          11.03            9.39     10.43     11.03   \n",
      "9     Biarritz          14.06           13.40     13.14     15.41   \n",
      "10    Beauvais          11.35           10.16     11.14     12.53   \n",
      "11      Amiens          11.71           10.29     11.55     12.25   \n",
      "12  Strasbourg           7.90            4.18      7.14      8.49   \n",
      "13     Auxerre          11.46           10.10     11.46     11.46   \n",
      "14   Marseille          17.70           16.44     14.53     18.70   \n",
      "15        Nice           9.52            8.30      7.34     10.44   \n",
      "16      Nantes           9.22            6.56      8.96     10.94   \n",
      "17   Dunkerque          11.15            9.68     10.86     12.74   \n",
      "18      Dieppe          11.66           10.37     11.10     11.68   \n",
      "19     Lorient          12.40           11.31     11.61     12.74   \n",
      "\n",
      "    pression_atmo  humidité  vitesse_vent   dir_vent lever_sol coucher_sol  \n",
      "0            1020        54          4.04   nord-est  07:20:03    20:13:54  \n",
      "1            1024        50          7.20   nord-est  07:24:51    20:22:48  \n",
      "2            1012        74          4.10        sud  07:13:55    20:04:31  \n",
      "3            1017        67          3.88        sud  07:29:54    20:19:22  \n",
      "4            1007        42          2.06        sud  07:04:19    19:50:48  \n",
      "5            1018        73          1.34   nord-est  07:18:42    20:11:05  \n",
      "6            1019        62          6.17        sud  07:32:58    20:21:56  \n",
      "7            1023        76          5.14   nord-est  07:34:58    20:28:48  \n",
      "8            1024        46          7.20   nord-est  07:18:25    20:15:22  \n",
      "9            1020        72          5.66       nord  07:45:02    20:33:50  \n",
      "10           1024        62          6.17   nord-est  07:25:42    20:24:44  \n",
      "11           1026        52          6.08   nord-est  07:24:02    20:24:00  \n",
      "12           1025        49          7.20   nord-est  07:03:34    20:00:56  \n",
      "13           1022        55          7.23   nord-est  07:20:58    20:16:56  \n",
      "14           1009        35          2.24  sud-ouest  07:16:58    20:05:29  \n",
      "15           1010        66          2.44  sud-ouest  07:09:27    19:58:59  \n",
      "16           1023        71          5.14   nord-est  07:42:06    20:37:00  \n",
      "17           1028        52          6.01   nord-est  07:22:17    20:24:09  \n",
      "18           1026        57          0.89       nord  07:28:43    20:28:24  \n",
      "19           1024        62          3.60   nord-est  07:48:10    20:44:16  \n"
     ]
    }
   ],
   "source": [
    "import pandas as pd\n",
    "import requests\n",
    "import datetime\n",
    "from functions import *\n",
    "import sqlite3\n",
    "from dotenv import load_dotenv\n",
    "import os\n",
    "\n",
    "load_dotenv()\n",
    "api_key= os.environ.get(\"API_KEY\")\n",
    "\n",
    "# Création d'un DataFrame avec les colonnes nécessaires\n",
    "df = pd.DataFrame(columns=[\"ville\", \"temp_actuelle\", \"temp_ressentie\", \"temp_min\", \"temp_max\", \"pression_atmo\", \"humidité\", \"vitesse_vent\", \"dir_vent\", \"lever_sol\", \"coucher_sol\"])\n",
    "\n",
    "# création d'une liste des villes à requêter(les 20 villes)\n",
    "boa = [\"Gueugnon\", \"Paris\", \"Gap\", \"Albi\", \"Ajaccio\", \"Lyon\", \"Toulouse\", \"Poitiers\", \"Troyes\", \"Biarritz\", \"Beauvais\", \"Amiens\", \"Strasbourg\", \"Auxerre\", \"Marseille\", \"Nice\", \"Nantes\",\"Dunkerque\", \"Dieppe\",\"Lorient\"]\n",
    "\n",
    "url=\"https://api.openweathermap.org/data/2.5/weather\"\n",
    "#reprise de l'url de l'api openweather que l'on va requêter\n",
    "for i in boa:\n",
    "    params={\n",
    "        \"q\": i,\n",
    "        \"appid\": api_key,         #l'api_key est contenu dans le fichier .env\n",
    "        \"units\": \"metric\"\n",
    "    }\n",
    "    \n",
    "    response = requests.get(url, params=params)         #\n",
    "    response_b = response.json()\n",
    "\n",
    "    # Récupération des différents paramétres auprés de l'API, correspondant à chaque donnée \n",
    "    temp_actuelle = response_b['main']['temp']\n",
    "    temp_ressentie = response_b['main']['feels_like']\n",
    "    temp_min = response_b['main']['temp_min']\n",
    "    temp_max = response_b['main']['temp_max']\n",
    "    pression_atmo = response_b['main']['pressure']\n",
    "    humidité = response_b['main']['humidity']\n",
    "    vitesse_vent = response_b['wind']['speed']\n",
    "    dir_vent = conversion(response_b['wind']['deg'])\n",
    "    # appel à une fonction conversion (située dans functions.py)pour convertir les valeures numériques de direction du vent en \"nord-est-ouest etc\"\n",
    "    heure_lever = datetime.datetime.fromtimestamp(response_b['sys']['sunrise'])\n",
    "    heure_coucher= datetime.datetime.fromtimestamp(response_b['sys']['sunset'])\n",
    "    #conversion de l'heure \n",
    "    lever_sol = heure_lever.time()\n",
    "    coucher_sol = heure_coucher.time()\n",
    "\n",
    "    # Ajout des valeurs au DataFrame créé\n",
    "    df.loc[len(df)] = [i, temp_actuelle, temp_ressentie, temp_min, temp_max, pression_atmo, humidité, vitesse_vent, dir_vent, lever_sol, coucher_sol]\n",
    "\n",
    "print(df)\n",
    "# Affichage du DataFrame mis à jour\n",
    "df.to_csv(\"meteo_villes.csv\")\n"
   ]
  },
  {
   "cell_type": "code",
   "execution_count": 2,
   "metadata": {},
   "outputs": [],
   "source": [
    "df=pd.read_csv('tempile.csv')\n",
    "\n",
    "conect= sqlite3.connect(\"bddeti.db\")\n",
    "#conversion du fichier csv en format sql, contenu dans la bdd \"bddeti.db\"\n",
    "\n",
    "df.to_sql('villes', conect, if_exists='replace', index=False)\n",
    "\n",
    "conect.close()\n"
   ]
  },
  {
   "cell_type": "code",
   "execution_count": null,
   "metadata": {},
   "outputs": [],
   "source": []
  }
 ],
 "metadata": {
  "kernelspec": {
   "display_name": "fastapi-env",
   "language": "python",
   "name": "python3"
  },
  "language_info": {
   "codemirror_mode": {
    "name": "ipython",
    "version": 3
   },
   "file_extension": ".py",
   "mimetype": "text/x-python",
   "name": "python",
   "nbconvert_exporter": "python",
   "pygments_lexer": "ipython3",
   "version": "3.8.16"
  },
  "orig_nbformat": 4,
  "vscode": {
   "interpreter": {
    "hash": "1ff0d11ee4050afa0c30aa0b80b39df076b415946a98f170bd2da9a04a2e37a0"
   }
  }
 },
 "nbformat": 4,
 "nbformat_minor": 2
}
